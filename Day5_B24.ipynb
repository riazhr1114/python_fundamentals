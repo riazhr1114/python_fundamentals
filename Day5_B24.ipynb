{
 "cells": [
  {
   "cell_type": "code",
   "execution_count": null,
   "metadata": {},
   "outputs": [],
   "source": [
    "#introduction to For Loops"
   ]
  },
  {
   "cell_type": "code",
   "execution_count": 2,
   "metadata": {},
   "outputs": [
    {
     "name": "stdout",
     "output_type": "stream",
     "text": [
      "['nikitha', 'kiran', 'meenakshi', 'ananth', 'sameer', 'aparna']\n"
     ]
    }
   ],
   "source": [
    "my_students = ['nikitha','kiran','meenakshi','ananth','sameer','aparna']\n",
    "print(my_students)"
   ]
  },
  {
   "cell_type": "code",
   "execution_count": 3,
   "metadata": {},
   "outputs": [
    {
     "data": {
      "text/plain": [
       "list"
      ]
     },
     "execution_count": 3,
     "metadata": {},
     "output_type": "execute_result"
    }
   ],
   "source": [
    "type(my_students)"
   ]
  },
  {
   "cell_type": "code",
   "execution_count": 5,
   "metadata": {},
   "outputs": [
    {
     "name": "stdout",
     "output_type": "stream",
     "text": [
      "keep the good work,nikitha\n"
     ]
    }
   ],
   "source": [
    "print(f\"keep the good work,{my_students[0]}\")"
   ]
  },
  {
   "cell_type": "code",
   "execution_count": 6,
   "metadata": {},
   "outputs": [
    {
     "name": "stdout",
     "output_type": "stream",
     "text": [
      "keep the good work,kiran\n"
     ]
    }
   ],
   "source": [
    "print(f\"keep the good work,{my_students[1]}\")"
   ]
  },
  {
   "cell_type": "code",
   "execution_count": 7,
   "metadata": {},
   "outputs": [
    {
     "name": "stdout",
     "output_type": "stream",
     "text": [
      "keep the good work,meenakshi\n"
     ]
    }
   ],
   "source": [
    "print(f\"keep the good work,{my_students[2]}\")"
   ]
  },
  {
   "cell_type": "code",
   "execution_count": 11,
   "metadata": {},
   "outputs": [
    {
     "name": "stdout",
     "output_type": "stream",
     "text": [
      "['nikitha', 'kiran', 'meenakshi', 'ananth', 'sameer', 'aparna']\n"
     ]
    }
   ],
   "source": [
    "#implementation of For loop\n",
    "print(my_students)"
   ]
  },
  {
   "cell_type": "code",
   "execution_count": 16,
   "metadata": {},
   "outputs": [
    {
     "name": "stdout",
     "output_type": "stream",
     "text": [
      "keep the good work,nikitha\n",
      "keep the good work,kiran\n",
      "keep the good work,meenakshi\n",
      "keep the good work,ananth\n",
      "keep the good work,sameer\n",
      "keep the good work,aparna\n"
     ]
    }
   ],
   "source": [
    "#general syntax of for loop:\n",
    "#for tempvariable in main variable:\n",
    "#print(tempvariable....>here must provide indentation\n",
    "for students in my_students:\n",
    "    print(f\"keep the good work,{students}\")  "
   ]
  },
  {
   "cell_type": "code",
   "execution_count": 17,
   "metadata": {},
   "outputs": [
    {
     "name": "stdout",
     "output_type": "stream",
     "text": [
      "nikitha\n",
      "kiran\n",
      "meenakshi\n",
      "ananth\n",
      "sameer\n",
      "aparna\n"
     ]
    }
   ],
   "source": [
    "for batman in my_students:\n",
    "    print(batman)"
   ]
  },
  {
   "cell_type": "code",
   "execution_count": 18,
   "metadata": {},
   "outputs": [
    {
     "name": "stdout",
     "output_type": "stream",
     "text": [
      "keep up the good work,nikitha\n",
      "keep up the good work,kiran\n",
      "keep up the good work,meenakshi\n",
      "keep up the good work,ananth\n",
      "keep up the good work,sameer\n",
      "keep up the good work,aparna\n"
     ]
    }
   ],
   "source": [
    "for x in my_students:\n",
    "    print(f\"keep up the good work,{x}\")"
   ]
  },
  {
   "cell_type": "code",
   "execution_count": 19,
   "metadata": {},
   "outputs": [
    {
     "name": "stdout",
     "output_type": "stream",
     "text": [
      "keep up the good work,nikitha\n",
      "i am looking forward to receive your file,nikitha\n",
      "keep up the good work,kiran\n",
      "i am looking forward to receive your file,kiran\n",
      "keep up the good work,meenakshi\n",
      "i am looking forward to receive your file,meenakshi\n",
      "keep up the good work,ananth\n",
      "i am looking forward to receive your file,ananth\n",
      "keep up the good work,sameer\n",
      "i am looking forward to receive your file,sameer\n",
      "keep up the good work,aparna\n",
      "i am looking forward to receive your file,aparna\n"
     ]
    }
   ],
   "source": [
    "for student in my_students:\n",
    "    print(f\"keep up the good work,{student}\")\n",
    "    print(f\"i am looking forward to receive your file,{student}\")"
   ]
  },
  {
   "cell_type": "code",
   "execution_count": 20,
   "metadata": {},
   "outputs": [
    {
     "name": "stdout",
     "output_type": "stream",
     "text": [
      "keep up the good work,nikitha\n",
      "i am looking forward to receive your file,nikitha,\n",
      "\n",
      "keep up the good work,kiran\n",
      "i am looking forward to receive your file,kiran,\n",
      "\n",
      "keep up the good work,meenakshi\n",
      "i am looking forward to receive your file,meenakshi,\n",
      "\n",
      "keep up the good work,ananth\n",
      "i am looking forward to receive your file,ananth,\n",
      "\n",
      "keep up the good work,sameer\n",
      "i am looking forward to receive your file,sameer,\n",
      "\n",
      "keep up the good work,aparna\n",
      "i am looking forward to receive your file,aparna,\n",
      "\n"
     ]
    }
   ],
   "source": [
    "for student in my_students:\n",
    "    print(f\"keep up the good work,{student}\")\n",
    "    print(f\"i am looking forward to receive your file,{student},\\n\")"
   ]
  },
  {
   "cell_type": "code",
   "execution_count": 21,
   "metadata": {},
   "outputs": [
    {
     "name": "stdout",
     "output_type": "stream",
     "text": [
      "keep up the good work,nikitha\n",
      "i am looking forward to receive your file,nikitha,\n",
      "\n",
      "keep up the good work,kiran\n",
      "i am looking forward to receive your file,kiran,\n",
      "\n",
      "keep up the good work,meenakshi\n",
      "i am looking forward to receive your file,meenakshi,\n",
      "\n",
      "keep up the good work,ananth\n",
      "i am looking forward to receive your file,ananth,\n",
      "\n",
      "keep up the good work,sameer\n",
      "i am looking forward to receive your file,sameer,\n",
      "\n",
      "keep up the good work,aparna\n",
      "i am looking forward to receive your file,aparna,\n",
      "\n",
      "thankyou all for showing interest in learning Python\n"
     ]
    }
   ],
   "source": [
    "for student in my_students:\n",
    "    print(f\"keep up the good work,{student}\")\n",
    "    print(f\"i am looking forward to receive your file,{student},\\n\")\n",
    "print(\"thankyou all for showing interest in learning Python\")"
   ]
  },
  {
   "cell_type": "code",
   "execution_count": null,
   "metadata": {},
   "outputs": [],
   "source": []
  },
  {
   "cell_type": "code",
   "execution_count": null,
   "metadata": {},
   "outputs": [],
   "source": []
  },
  {
   "cell_type": "code",
   "execution_count": null,
   "metadata": {},
   "outputs": [],
   "source": []
  },
  {
   "cell_type": "code",
   "execution_count": null,
   "metadata": {},
   "outputs": [],
   "source": []
  },
  {
   "cell_type": "code",
   "execution_count": null,
   "metadata": {},
   "outputs": [],
   "source": []
  },
  {
   "cell_type": "code",
   "execution_count": null,
   "metadata": {},
   "outputs": [],
   "source": []
  },
  {
   "cell_type": "code",
   "execution_count": null,
   "metadata": {},
   "outputs": [],
   "source": []
  },
  {
   "cell_type": "code",
   "execution_count": null,
   "metadata": {},
   "outputs": [],
   "source": []
  },
  {
   "cell_type": "code",
   "execution_count": null,
   "metadata": {},
   "outputs": [],
   "source": []
  },
  {
   "cell_type": "code",
   "execution_count": null,
   "metadata": {},
   "outputs": [],
   "source": []
  },
  {
   "cell_type": "code",
   "execution_count": null,
   "metadata": {},
   "outputs": [],
   "source": []
  },
  {
   "cell_type": "code",
   "execution_count": null,
   "metadata": {},
   "outputs": [],
   "source": []
  },
  {
   "cell_type": "code",
   "execution_count": null,
   "metadata": {},
   "outputs": [],
   "source": []
  },
  {
   "cell_type": "code",
   "execution_count": null,
   "metadata": {},
   "outputs": [],
   "source": []
  },
  {
   "cell_type": "code",
   "execution_count": null,
   "metadata": {},
   "outputs": [],
   "source": []
  }
 ],
 "metadata": {
  "kernelspec": {
   "display_name": "Python 3",
   "language": "python",
   "name": "python3"
  },
  "language_info": {
   "codemirror_mode": {
    "name": "ipython",
    "version": 3
   },
   "file_extension": ".py",
   "mimetype": "text/x-python",
   "name": "python",
   "nbconvert_exporter": "python",
   "pygments_lexer": "ipython3",
   "version": "3.7.6"
  }
 },
 "nbformat": 4,
 "nbformat_minor": 4
}
