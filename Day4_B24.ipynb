{
 "cells": [
  {
   "cell_type": "code",
   "execution_count": null,
   "metadata": {},
   "outputs": [],
   "source": [
    "#introduction to list datatype\n",
    " #A list is an ordered collection of items in a particular order\n",
    " #classification: A List is classified as an mutable datatype..\n",
    " #How to define the List......>[]....>square brackets"
   ]
  },
  {
   "cell_type": "code",
   "execution_count": 2,
   "metadata": {},
   "outputs": [
    {
     "name": "stdout",
     "output_type": "stream",
     "text": [
      "['pavan', 'reena', 'sneha', 'honey', 'keerthi']\n"
     ]
    }
   ],
   "source": [
    "students = ['pavan','reena','sneha','honey','keerthi']\n",
    "print(students)"
   ]
  },
  {
   "cell_type": "code",
   "execution_count": 3,
   "metadata": {},
   "outputs": [
    {
     "data": {
      "text/plain": [
       "list"
      ]
     },
     "execution_count": 3,
     "metadata": {},
     "output_type": "execute_result"
    }
   ],
   "source": [
    "type(students)"
   ]
  },
  {
   "cell_type": "code",
   "execution_count": null,
   "metadata": {},
   "outputs": [],
   "source": [
    "#how to access the elements in the list......\n",
    "#understanding the concept of indexing.......\n",
    "....#the order in the list is maintained by the way of indexing the elements in the background of the list.\n",
    "#ans:we have to use the concept of indexing for accessing the elements from the list.."
   ]
  },
  {
   "cell_type": "code",
   "execution_count": 4,
   "metadata": {},
   "outputs": [
    {
     "name": "stdout",
     "output_type": "stream",
     "text": [
      "sneha\n"
     ]
    }
   ],
   "source": [
    "#req: to access the sneha name from the above list\n",
    "print(students[2])"
   ]
  },
  {
   "cell_type": "code",
   "execution_count": 7,
   "metadata": {},
   "outputs": [
    {
     "name": "stdout",
     "output_type": "stream",
     "text": [
      "keerthi\n"
     ]
    }
   ],
   "source": [
    "print(students[4])"
   ]
  },
  {
   "cell_type": "code",
   "execution_count": null,
   "metadata": {},
   "outputs": [],
   "source": [
    "#enhancement of the code.........\n",
    "#req:appreciate pavan for sending the practice files regularly"
   ]
  },
  {
   "cell_type": "code",
   "execution_count": 8,
   "metadata": {},
   "outputs": [
    {
     "name": "stdout",
     "output_type": "stream",
     "text": [
      "keep up the good work,pavan\n"
     ]
    }
   ],
   "source": [
    "print(f\"keep up the good work,{students[0]}\")"
   ]
  },
  {
   "cell_type": "code",
   "execution_count": 10,
   "metadata": {},
   "outputs": [
    {
     "name": "stdout",
     "output_type": "stream",
     "text": [
      "keep up the good work,Pavan\n"
     ]
    }
   ],
   "source": [
    "#further enhancement of the code ......\n",
    "print(f\"keep up the good work,{students[0].title()}\")"
   ]
  },
  {
   "cell_type": "code",
   "execution_count": null,
   "metadata": {},
   "outputs": [],
   "source": [
    "#how to add modify and delete the elements from the list...."
   ]
  },
  {
   "cell_type": "code",
   "execution_count": 11,
   "metadata": {},
   "outputs": [
    {
     "name": "stdout",
     "output_type": "stream",
     "text": [
      "['lavanya', 'satish', 'neha', 'kumar', 'shabbir', 'ritika']\n"
     ]
    }
   ],
   "source": [
    "#how to add the  elements\n",
    "my_students = ['lavanya','satish','neha','kumar','shabbir','ritika']\n",
    "print(my_students)"
   ]
  },
  {
   "cell_type": "code",
   "execution_count": 12,
   "metadata": {},
   "outputs": [
    {
     "name": "stdout",
     "output_type": "stream",
     "text": [
      "['lavanya', 'satish', 'neha', 'kumar', 'shabbir', 'ritika', 'rakesh']\n"
     ]
    }
   ],
   "source": [
    "#req:to add a new student to the list\n",
    "my_students.append('rakesh')\n",
    "print(my_students)"
   ]
  },
  {
   "cell_type": "code",
   "execution_count": 13,
   "metadata": {},
   "outputs": [
    {
     "name": "stdout",
     "output_type": "stream",
     "text": [
      "['lavanya', 'satish', 'neha', 'kumar', 'shabbir', 'ritika', 'rakesh', 'rohit']\n"
     ]
    }
   ],
   "source": [
    "my_students.append('rohit')\n",
    "print(my_students)"
   ]
  },
  {
   "cell_type": "code",
   "execution_count": null,
   "metadata": {},
   "outputs": [],
   "source": [
    "#using append method students are added at the end of the list ..if we want to add the elements in a particular index of choice we use insert method"
   ]
  },
  {
   "cell_type": "code",
   "execution_count": 16,
   "metadata": {},
   "outputs": [
    {
     "name": "stdout",
     "output_type": "stream",
     "text": [
      "['lavanya', 'satish', 'priya', 'priya', 'neha', 'kumar', 'shabbir', 'ritika', 'rakesh', 'rohit']\n"
     ]
    }
   ],
   "source": [
    "#req:to add priya  in 2nd index position...\n",
    "my_students.insert(2,'priya')\n",
    "print(my_students)"
   ]
  },
  {
   "cell_type": "code",
   "execution_count": 17,
   "metadata": {},
   "outputs": [
    {
     "name": "stdout",
     "output_type": "stream",
     "text": [
      "priya\n"
     ]
    }
   ],
   "source": [
    "print(my_students[2])"
   ]
  },
  {
   "cell_type": "code",
   "execution_count": null,
   "metadata": {},
   "outputs": [],
   "source": [
    "#how to modify elements in the list.....\n",
    "#req:neha.................> meenakshi........!"
   ]
  },
  {
   "cell_type": "code",
   "execution_count": 18,
   "metadata": {},
   "outputs": [
    {
     "name": "stdout",
     "output_type": "stream",
     "text": [
      "['lavanya', 'satish', 'priya', 'meenakshi', 'neha', 'kumar', 'shabbir', 'ritika', 'rakesh', 'rohit']\n"
     ]
    }
   ],
   "source": [
    "my_students[3] = 'meenakshi'\n",
    "print(my_students)"
   ]
  },
  {
   "cell_type": "code",
   "execution_count": 19,
   "metadata": {},
   "outputs": [
    {
     "name": "stdout",
     "output_type": "stream",
     "text": [
      "['lavanya', 'priya', 'meenakshi', 'neha', 'kumar', 'shabbir', 'ritika', 'rakesh', 'rohit']\n"
     ]
    }
   ],
   "source": [
    "#how to delete elements from the list............>\n",
    "del my_students[1]\n",
    "print(my_students)  #we want to remove satish from the list"
   ]
  },
  {
   "cell_type": "code",
   "execution_count": null,
   "metadata": {},
   "outputs": [],
   "source": []
  },
  {
   "cell_type": "code",
   "execution_count": null,
   "metadata": {},
   "outputs": [],
   "source": []
  },
  {
   "cell_type": "code",
   "execution_count": null,
   "metadata": {},
   "outputs": [],
   "source": []
  },
  {
   "cell_type": "code",
   "execution_count": null,
   "metadata": {},
   "outputs": [],
   "source": []
  },
  {
   "cell_type": "code",
   "execution_count": null,
   "metadata": {},
   "outputs": [],
   "source": []
  },
  {
   "cell_type": "code",
   "execution_count": null,
   "metadata": {},
   "outputs": [],
   "source": []
  },
  {
   "cell_type": "code",
   "execution_count": null,
   "metadata": {},
   "outputs": [],
   "source": []
  },
  {
   "cell_type": "code",
   "execution_count": null,
   "metadata": {},
   "outputs": [],
   "source": []
  },
  {
   "cell_type": "code",
   "execution_count": null,
   "metadata": {},
   "outputs": [],
   "source": []
  },
  {
   "cell_type": "code",
   "execution_count": null,
   "metadata": {},
   "outputs": [],
   "source": []
  },
  {
   "cell_type": "code",
   "execution_count": null,
   "metadata": {},
   "outputs": [],
   "source": []
  },
  {
   "cell_type": "code",
   "execution_count": null,
   "metadata": {},
   "outputs": [],
   "source": []
  },
  {
   "cell_type": "code",
   "execution_count": null,
   "metadata": {},
   "outputs": [],
   "source": []
  },
  {
   "cell_type": "code",
   "execution_count": null,
   "metadata": {},
   "outputs": [],
   "source": []
  },
  {
   "cell_type": "code",
   "execution_count": null,
   "metadata": {},
   "outputs": [],
   "source": []
  },
  {
   "cell_type": "code",
   "execution_count": null,
   "metadata": {},
   "outputs": [],
   "source": []
  },
  {
   "cell_type": "code",
   "execution_count": null,
   "metadata": {},
   "outputs": [],
   "source": []
  }
 ],
 "metadata": {
  "kernelspec": {
   "display_name": "Python 3",
   "language": "python",
   "name": "python3"
  },
  "language_info": {
   "codemirror_mode": {
    "name": "ipython",
    "version": 3
   },
   "file_extension": ".py",
   "mimetype": "text/x-python",
   "name": "python",
   "nbconvert_exporter": "python",
   "pygments_lexer": "ipython3",
   "version": "3.7.6"
  }
 },
 "nbformat": 4,
 "nbformat_minor": 4
}
